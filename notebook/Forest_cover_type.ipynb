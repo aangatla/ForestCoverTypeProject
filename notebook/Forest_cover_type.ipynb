{
 "cells": [
  {
   "cell_type": "markdown",
   "id": "6e2468b2",
   "metadata": {},
   "source": [
    "# Problem Statement:"
   ]
  },
  {
   "cell_type": "markdown",
   "id": "a5b9aee3",
   "metadata": {},
   "source": [
    "Forest land is highly required for developing ecosystem management. Any changes that\n",
    "occur in ecosystem should be carefully noticed to avoid further loss. This model is\n",
    "helpful in noticing the changes occurred due to heavy floods or any other calamities\n",
    "which affected the forest land.\n",
    "The goal is to predict seven different cover types in four different wilderness areas of\n",
    "the Roosevelt National Forest of Northern Colorado with the best accuracy"
   ]
  },
  {
   "cell_type": "markdown",
   "id": "425471fd",
   "metadata": {},
   "source": [
    "# Import Required Libraries:"
   ]
  },
  {
   "cell_type": "code",
   "execution_count": 2,
   "id": "05ba89e0",
   "metadata": {},
   "outputs": [],
   "source": [
    "import pandas as pd\n",
    "import seaborn as sns\n",
    "import numpy as np\n",
    "from statistics import mean\n",
    "import matplotlib.pyplot as plt\n",
    "import warnings\n",
    "from sklearn.preprocessing import PowerTransformer\n",
    "import numpy as np\n",
    "from sklearn.preprocessing import LabelEncoder\n",
    "from sklearn.pipeline import Pipeline\n",
    "from sklearn.utils import resample\n",
    "\n",
    "from sklearn.linear_model import LogisticRegression\n",
    "from sklearn.ensemble import RandomForestClassifier, AdaBoostClassifier, GradientBoostingClassifier\n",
    "from sklearn.neighbors import KNeighborsClassifier\n",
    "from sklearn.tree import DecisionTreeClassifier\n",
    "from sklearn.naive_bayes import GaussianNB\n",
    "from catboost import CatBoostClassifier\n",
    "\n",
    "\n",
    "from sklearn.svm import SVC\n",
    "\n",
    "from sklearn.metrics import accuracy_score, classification_report,ConfusionMatrixDisplay, \\\n",
    "                            precision_score, recall_score, f1_score, roc_auc_score,roc_curve,confusion_matrix\n",
    "\n",
    "\n",
    "from sklearn import metrics \n",
    "from sklearn.model_selection import  train_test_split, RepeatedStratifiedKFold, cross_val_score\n",
    "from sklearn.preprocessing import OneHotEncoder, MinMaxScaler\n",
    "from sklearn.compose import ColumnTransformer\n",
    "from sklearn.impute import SimpleImputer, KNNImputer\n",
    "from xgboost import XGBClassifier\n",
    "from sklearn.preprocessing import StandardScaler, MinMaxScaler,RobustScaler\n",
    "from sklearn.compose import ColumnTransformer\n",
    "from pandas_profiling import ProfileReport\n",
    "\n",
    "\n",
    "warnings.filterwarnings(\"ignore\")\n",
    "%matplotlib inline"
   ]
  },
  {
   "cell_type": "markdown",
   "id": "db98bbac",
   "metadata": {},
   "source": [
    "## Reading the data:"
   ]
  },
  {
   "cell_type": "code",
   "execution_count": 3,
   "id": "e944ede7",
   "metadata": {},
   "outputs": [],
   "source": [
    "train = pd.read_csv(\"train.csv\",index_col = \"Id\")"
   ]
  },
  {
   "cell_type": "markdown",
   "id": "835acd90",
   "metadata": {},
   "source": [
    "### Checking whether dataset is balanced or not:"
   ]
  },
  {
   "cell_type": "code",
   "execution_count": 4,
   "id": "b55b5c64",
   "metadata": {
    "scrolled": true
   },
   "outputs": [
    {
     "data": {
      "text/plain": [
       "5    2160\n",
       "2    2160\n",
       "1    2160\n",
       "7    2160\n",
       "3    2160\n",
       "6    2160\n",
       "4    2160\n",
       "Name: Cover_Type, dtype: int64"
      ]
     },
     "execution_count": 4,
     "metadata": {},
     "output_type": "execute_result"
    }
   ],
   "source": [
    "train[\"Cover_Type\"].value_counts()"
   ]
  },
  {
   "cell_type": "code",
   "execution_count": 5,
   "id": "1cc624aa",
   "metadata": {
    "scrolled": true
   },
   "outputs": [
    {
     "data": {
      "text/plain": [
       "<seaborn.axisgrid.FacetGrid at 0x2aba95c35b0>"
      ]
     },
     "execution_count": 5,
     "metadata": {},
     "output_type": "execute_result"
    },
    {
     "data": {
      "image/png": "[encoded data removed]",
      "text/plain": [
       "<Figure size 360x360 with 1 Axes>"
      ]
     },
     "metadata": {
      "needs_background": "light"
     },
     "output_type": "display_data"
    }
   ],
   "source": [
    "sns.catplot(data=train, x=\"Cover_Type\", kind=\"count\", palette=\"winter_r\", alpha=.6)\n"
   ]
  },
  {
   "cell_type": "markdown",
   "id": "6f95aeb2",
   "metadata": {},
   "source": [
    "**We can see in above plot that all the categorical values are in equal proportion in the target column of the dataset.So we can say that dataset is a balanced dataset.**"
   ]
  },
  {
   "cell_type": "code",
   "execution_count": 26,
   "id": "ed9f026e",
   "metadata": {
    "scrolled": true
   },
   "outputs": [
    {
     "name": "stdout",
     "output_type": "stream",
     "text": [
      "<class 'pandas.core.frame.DataFrame'>\n",
      "Int64Index: 15120 entries, 1 to 15120\n",
      "Data columns (total 55 columns):\n",
      " #   Column                              Non-Null Count  Dtype\n",
      "---  ------                              --------------  -----\n",
      " 0   Elevation                           15120 non-null  int64\n",
      " 1   Aspect                              15120 non-null  int64\n",
      " 2   Slope                               15120 non-null  int64\n",
      " 3   Horizontal_Distance_To_Hydrology    15120 non-null  int64\n",
      " 4   Vertical_Distance_To_Hydrology      15120 non-null  int64\n",
      " 5   Horizontal_Distance_To_Roadways     15120 non-null  int64\n",
      " 6   Hillshade_9am                       15120 non-null  int64\n",
      " 7   Hillshade_Noon                      15120 non-null  int64\n",
      " 8   Hillshade_3pm                       15120 non-null  int64\n",
      " 9   Horizontal_Distance_To_Fire_Points  15120 non-null  int64\n",
      " 10  Wilderness_Area1                    15120 non-null  int64\n",
      " 11  Wilderness_Area2                    15120 non-null  int64\n",
      " 12  Wilderness_Area3                    15120 non-null  int64\n",
      " 13  Wilderness_Area4                    15120 non-null  int64\n",
      " 14  Soil_Type1                          15120 non-null  int64\n",
      " 15  Soil_Type2                          15120 non-null  int64\n",
      " 16  Soil_Type3                          15120 non-null  int64\n",
      " 17  Soil_Type4                          15120 non-null  int64\n",
      " 18  Soil_Type5                          15120 non-null  int64\n",
      " 19  Soil_Type6                          15120 non-null  int64\n",
      " 20  Soil_Type7                          15120 non-null  int64\n",
      " 21  Soil_Type8                          15120 non-null  int64\n",
      " 22  Soil_Type9                          15120 non-null  int64\n",
      " 23  Soil_Type10                         15120 non-null  int64\n",
      " 24  Soil_Type11                         15120 non-null  int64\n",
      " 25  Soil_Type12                         15120 non-null  int64\n",
      " 26  Soil_Type13                         15120 non-null  int64\n",
      " 27  Soil_Type14                         15120 non-null  int64\n",
      " 28  Soil_Type15                         15120 non-null  int64\n",
      " 29  Soil_Type16                         15120 non-null  int64\n",
      " 30  Soil_Type17                         15120 non-null  int64\n",
      " 31  Soil_Type18                         15120 non-null  int64\n",
      " 32  Soil_Type19                         15120 non-null  int64\n",
      " 33  Soil_Type20                         15120 non-null  int64\n",
      " 34  Soil_Type21                         15120 non-null  int64\n",
      " 35  Soil_Type22                         15120 non-null  int64\n",
      " 36  Soil_Type23                         15120 non-null  int64\n",
      " 37  Soil_Type24                         15120 non-null  int64\n",
      " 38  Soil_Type25                         15120 non-null  int64\n",
      " 39  Soil_Type26                         15120 non-null  int64\n",
      " 40  Soil_Type27                         15120 non-null  int64\n",
      " 41  Soil_Type28                         15120 non-null  int64\n",
      " 42  Soil_Type29                         15120 non-null  int64\n",
      " 43  Soil_Type30                         15120 non-null  int64\n",
      " 44  Soil_Type31                         15120 non-null  int64\n",
      " 45  Soil_Type32                         15120 non-null  int64\n",
      " 46  Soil_Type33                         15120 non-null  int64\n",
      " 47  Soil_Type34                         15120 non-null  int64\n",
      " 48  Soil_Type35                         15120 non-null  int64\n",
      " 49  Soil_Type36                         15120 non-null  int64\n",
      " 50  Soil_Type37                         15120 non-null  int64\n",
      " 51  Soil_Type38                         15120 non-null  int64\n",
      " 52  Soil_Type39                         15120 non-null  int64\n",
      " 53  Soil_Type40                         15120 non-null  int64\n",
      " 54  Cover_Type                          15120 non-null  int64\n",
      "dtypes: int64(55)\n",
      "memory usage: 6.5 MB\n"
     ]
    }
   ],
   "source": [
    "train.info()"
   ]
  },
  {
   "cell_type": "code",
   "execution_count": 27,
   "id": "06954422",
   "metadata": {
    "scrolled": true
   },
   "outputs": [
    {
     "data": {
      "text/plain": [
       "Elevation                             0\n",
       "Aspect                                0\n",
       "Slope                                 0\n",
       "Horizontal_Distance_To_Hydrology      0\n",
       "Vertical_Distance_To_Hydrology        0\n",
       "Horizontal_Distance_To_Roadways       0\n",
       "Hillshade_9am                         0\n",
       "Hillshade_Noon                        0\n",
       "Hillshade_3pm                         0\n",
       "Horizontal_Distance_To_Fire_Points    0\n",
       "Wilderness_Area1                      0\n",
       "Wilderness_Area2                      0\n",
       "Wilderness_Area3                      0\n",
       "Wilderness_Area4                      0\n",
       "Soil_Type1                            0\n",
       "Soil_Type2                            0\n",
       "Soil_Type3                            0\n",
       "Soil_Type4                            0\n",
       "Soil_Type5                            0\n",
       "Soil_Type6                            0\n",
       "Soil_Type7                            0\n",
       "Soil_Type8                            0\n",
       "Soil_Type9                            0\n",
       "Soil_Type10                           0\n",
       "Soil_Type11                           0\n",
       "Soil_Type12                           0\n",
       "Soil_Type13                           0\n",
       "Soil_Type14                           0\n",
       "Soil_Type15                           0\n",
       "Soil_Type16                           0\n",
       "Soil_Type17                           0\n",
       "Soil_Type18                           0\n",
       "Soil_Type19                           0\n",
       "Soil_Type20                           0\n",
       "Soil_Type21                           0\n",
       "Soil_Type22                           0\n",
       "Soil_Type23                           0\n",
       "Soil_Type24                           0\n",
       "Soil_Type25                           0\n",
       "Soil_Type26                           0\n",
       "Soil_Type27                           0\n",
       "Soil_Type28                           0\n",
       "Soil_Type29                           0\n",
       "Soil_Type30                           0\n",
       "Soil_Type31                           0\n",
       "Soil_Type32                           0\n",
       "Soil_Type33                           0\n",
       "Soil_Type34                           0\n",
       "Soil_Type35                           0\n",
       "Soil_Type36                           0\n",
       "Soil_Type37                           0\n",
       "Soil_Type38                           0\n",
       "Soil_Type39                           0\n",
       "Soil_Type40                           0\n",
       "Cover_Type                            0\n",
       "dtype: int64"
      ]
     },
     "execution_count": 27,
     "metadata": {},
     "output_type": "execute_result"
    }
   ],
   "source": [
    "train.isnull().sum()"
   ]
  },
  {
   "cell_type": "markdown",
   "id": "eb534e1f",
   "metadata": {},
   "source": [
    "## Info about the dataset:"
   ]
  },
  {
   "cell_type": "markdown",
   "id": "153cc25a",
   "metadata": {},
   "source": [
    "The study area includes four wilderness areas located in the Roosevelt National Forest of northern Colorado. Each observation is a 30m x 30m patch. You are asked to predict an integer classification for the forest cover type. The seven types are:</br>\n",
    "\n",
    "1 - Spruce/Fir</br>\n",
    "2 - Lodgepole Pine</br>\n",
    "3 - Ponderosa Pine</br>\n",
    "4 - Cottonwood/Willow</br>\n",
    "5 - Aspen</br>\n",
    "6 - Douglas-fir</br>\n",
    "7 - Krummholz</br>\n",
    "\n",
    "The training set (15120 observations) contains both features and the Cover_Type. The test set contains only the features. You must predict the Cover_Type for every row in the test set (565892 observations).</br>\n",
    "\n",
    "Data Fields</br>\n",
    "Elevation - Elevation in meters</br>\n",
    "Aspect - Aspect in degrees azimuth</br>\n",
    "Slope - Slope in degrees</br>\n",
    "Horizontal_Distance_To_Hydrology - Horz Dist to nearest surface water features</br>\n",
    "Vertical_Distance_To_Hydrology - Vert Dist to nearest surface water features</br>\n",
    "Horizontal_Distance_To_Roadways - Horz Dist to nearest roadway</br>\n",
    "Hillshade_9am (0 to 255 index) - Hillshade index at 9am, summer solstice</br>\n",
    "Hillshade_Noon (0 to 255 index) - Hillshade index at noon, summer solstice</br>\n",
    "Hillshade_3pm (0 to 255 index) - Hillshade index at 3pm, summer solstice</br>\n",
    "Horizontal_Distance_To_Fire_Points - Horz Dist to nearest wildfire ignition points</br>\n",
    "Wilderness_Area (4 binary columns, 0 = absence or 1 = presence) - Wilderness area designation</br>\n",
    "Soil_Type (40 binary columns, 0 = absence or 1 = presence) - Soil Type designation</br>\n",
    "Cover_Type (7 types, integers 1 to 7) - Forest Cover Type designation</br>\n",
    "\n",
    "The wilderness areas are:</br>\n",
    "\n",
    "1 - Rawah Wilderness Area</br>\n",
    "2 - Neota Wilderness Area</br>\n",
    "3 - Comanche Peak Wilderness Area</br>\n",
    "4 - Cache la Poudre Wilderness Area</br>\n",
    "\n",
    "The soil types are:</br>\n",
    "\n",
    "1 Cathedral family - Rock outcrop complex, extremely stony.</br>\n",
    "2 Vanet - Ratake families complex, very stony.</br>\n",
    "3 Haploborolis - Rock outcrop complex, rubbly.</br>\n",
    "4 Ratake family - Rock outcrop complex, rubbly.</br>\n",
    "5 Vanet family - Rock outcrop complex complex, rubbly.</br>\n",
    "6 Vanet - Wetmore families - Rock outcrop complex, stony.</br>\n",
    "7 Gothic family.</br>\n",
    "8 Supervisor - Limber families complex.</br>\n",
    "9 Troutville family, very stony.</br>\n",
    "10 Bullwark - Catamount families - Rock outcrop complex, rubbly.</br>\n",
    "11 Bullwark - Catamount families - Rock land complex, rubbly.</br>\n",
    "12 Legault family - Rock land complex, stony.</br>\n",
    "13 Catamount family - Rock land - Bullwark family complex, rubbly.</br>\n",
    "14 Pachic Argiborolis - Aquolis complex.</br>\n",
    "15 unspecified in the USFS Soil and ELU Survey.</br>\n",
    "16 Cryaquolis - Cryoborolis complex.</br>\n",
    "17 Gateview family - Cryaquolis complex.</br>\n",
    "18 Rogert family, very stony.</br>\n",
    "19 Typic Cryaquolis - Borohemists complex.</br>\n",
    "20 Typic Cryaquepts - Typic Cryaquolls complex.</br>\n",
    "21 Typic Cryaquolls - Leighcan family, till substratum complex.</br>\n",
    "22 Leighcan family, till substratum, extremely bouldery.</br>\n",
    "23 Leighcan family, till substratum - Typic Cryaquolls complex.</br>\n",
    "24 Leighcan family, extremely stony.</br>\n",
    "25 Leighcan family, warm, extremely stony.</br>\n",
    "26 Granile - Catamount families complex, very stony.</br>\n",
    "27 Leighcan family, warm - Rock outcrop complex, extremely stony.</br>\n",
    "28 Leighcan family - Rock outcrop complex, extremely stony.</br>\n",
    "29 Como - Legault families complex, extremely stony.</br>\n",
    "30 Como family - Rock land - Legault family complex, extremely stony.</br>\n",
    "31 Leighcan - Catamount families complex, extremely stony.</br>\n",
    "32 Catamount family - Rock outcrop - Leighcan family complex, extremely stony.</br>\n",
    "33 Leighcan - Catamount families - Rock outcrop complex, extremely stony.</br>\n",
    "34 Cryorthents - Rock land complex, extremely stony.</br>\n",
    "35 Cryumbrepts - Rock outcrop - Cryaquepts complex.</br>\n",
    "36 Bross family - Rock land - Cryumbrepts complex, extremely stony.</br>\n",
    "37 Rock outcrop - Cryumbrepts - Cryorthents complex, extremely stony.</br>\n",
    "38 Leighcan - Moran families - Cryaquolls complex, extremely stony.</br>\n",
    "39 Moran family - Cryorthents - Leighcan family complex, extremely stony.</br>\n",
    "40 Moran family - Cryorthents - Rock land complex, extremely stony.</br>"
   ]
  },
  {
   "cell_type": "markdown",
   "id": "d32a1c09",
   "metadata": {},
   "source": [
    "## Preparing  EDA report of the dataset:"
   ]
  },
  {
   "cell_type": "code",
   "execution_count": 29,
   "id": "0e6749a0",
   "metadata": {},
   "outputs": [],
   "source": [
    "profile = ProfileReport(train, explorative=True)\n",
    "\n",
    "#Saving results to a HTML file\n",
    "profile.to_file(\"forest_cover_EDA.html\")"
   ]
  },
  {
   "cell_type": "markdown",
   "id": "2b4f888a",
   "metadata": {},
   "source": [
    "## Model Training and Evaluation:"
   ]
  },
  {
   "cell_type": "markdown",
   "id": "5bd0e500",
   "metadata": {},
   "source": [
    "### Defining x and y:"
   ]
  },
  {
   "cell_type": "code",
   "execution_count": 4,
   "id": "b6165fd7",
   "metadata": {},
   "outputs": [],
   "source": [
    "x = train.drop(\"Cover_Type\", axis =1  )"
   ]
  },
  {
   "cell_type": "code",
   "execution_count": 5,
   "id": "997ab80f",
   "metadata": {},
   "outputs": [],
   "source": [
    "y = train[\"Cover_Type\"]"
   ]
  },
  {
   "cell_type": "code",
   "execution_count": 6,
   "id": "eff5b3dc",
   "metadata": {},
   "outputs": [],
   "source": [
    "def evaluate_clf(true, predicted):\n",
    "    '''\n",
    "    This function takes in true values and predicted values\n",
    "    Returns: Accuracy, F1-Score, Precision, Recall, Roc-auc Score\n",
    "    '''\n",
    "    acc = accuracy_score(true, predicted) # Calculate Accuracy\n",
    "    f1 = f1_score(true, predicted,average = 'micro') # Calculate F1-score\n",
    "    precision = precision_score(true, predicted,average = 'micro') # Calculate Precision\n",
    "    recall = recall_score(true, predicted,average = 'micro')  # Calculate Recall\n",
    "  \n",
    "    return acc, f1 , precision, recall"
   ]
  },
  {
   "cell_type": "code",
   "execution_count": 7,
   "id": "7630a490",
   "metadata": {},
   "outputs": [],
   "source": [
    "# Create a function which can evaluate models and return a report \n",
    "def evaluate_models(X_train,y_train,X_test,y_test, models):\n",
    "    '''\n",
    "    This function takes in X and y and models dictionary as input\n",
    "    It splits the data into Train Test split\n",
    "    Iterates through the given model dictionary and evaluates the metrics\n",
    "    Returns: Dataframe which contains report of all models metrics with cost\n",
    "    '''\n",
    "    models_list = []\n",
    "    accuracy_list = []\n",
    "    \n",
    "    for i in range(len(list(models))):\n",
    "        model = list(models.values())[i]\n",
    "        model.fit(X_train, y_train) # Train model\n",
    "\n",
    "        # Make predictions\n",
    "        y_train_pred = model.predict(X_train)\n",
    "        y_test_pred = model.predict(X_test)\n",
    "\n",
    "        # Training set performance\n",
    "        model_train_accuracy, model_train_f1,model_train_precision, model_train_recall=evaluate_clf(y_train ,y_train_pred)\n",
    "        \n",
    "\n",
    "\n",
    "        # Test set performance\n",
    "        model_test_accuracy,model_test_f1,model_test_precision,model_test_recall=evaluate_clf(y_test, y_test_pred)\n",
    "      \n",
    "\n",
    "        print(list(models.keys())[i])\n",
    "        models_list.append(list(models.keys())[i])\n",
    "\n",
    "        print('Model performance for Training set')\n",
    "        print(\"- Accuracy: {:.4f}\".format(model_train_accuracy))\n",
    "        print('- F1 score: {:.4f}'.format(model_train_f1)) \n",
    "        print('- Precision: {:.4f}'.format(model_train_precision))\n",
    "        print('- Recall: {:.4f}'.format(model_train_recall))\n",
    "   \n",
    "        \n",
    "\n",
    "        print('----------------------------------')\n",
    "\n",
    "        print('Model performance for Test set')\n",
    "        print('- Accuracy: {:.4f}'.format(model_test_accuracy))\n",
    "        print('- F1 score: {:.4f}'.format(model_test_f1))\n",
    "        print('- Precision: {:.4f}'.format(model_test_precision))\n",
    "        print('- Recall: {:.4f}'.format(model_test_recall))\n",
    "     \n",
    "       \n",
    "        print('='*35)\n",
    "        print('\\n')\n",
    "        \n",
    "    \n",
    "        \n",
    "    "
   ]
  },
  {
   "cell_type": "markdown",
   "id": "c16de20d",
   "metadata": {},
   "source": [
    "### Splitting the dataset:"
   ]
  },
  {
   "cell_type": "code",
   "execution_count": 8,
   "id": "f69db91f",
   "metadata": {},
   "outputs": [],
   "source": [
    "xtrain, xtest, ytrain, ytest = train_test_split(x.values, y.values, train_size=0.80, random_state=42)\n"
   ]
  },
  {
   "cell_type": "markdown",
   "id": "b1b20bd1",
   "metadata": {},
   "source": [
    "### Normalizing the data:"
   ]
  },
  {
   "cell_type": "code",
   "execution_count": 11,
   "id": "7bfc60a6",
   "metadata": {},
   "outputs": [],
   "source": [
    "from sklearn.preprocessing import StandardScaler\n",
    "scaler = StandardScaler()\n",
    "x_train_scaled = scaler.fit_transform(xtrain)\n",
    "x_test_scaled = scaler.transform(xtest)"
   ]
  },
  {
   "cell_type": "code",
   "execution_count": 16,
   "id": "e278e71e",
   "metadata": {},
   "outputs": [],
   "source": [
    "models = {\n",
    "    \"Random Forest\": RandomForestClassifier(),\n",
    "    \"Decision Tree\": DecisionTreeClassifier(),\n",
    "    \"Gradient Boosting\": GradientBoostingClassifier(),\n",
    "    \"Logistic Regression\": LogisticRegression(),\n",
    "    \"K-Neighbors Classifier\": KNeighborsClassifier(),\n",
    "    \"CatBoost Classifier\": CatBoostClassifier(verbose = False),\n",
    "    \"AdaBoost Classifier\": AdaBoostClassifier(),\n",
    "    \"GaussianNB Classifier\" : GaussianNB()\n",
    "    \n",
    "    \n",
    "}"
   ]
  },
  {
   "cell_type": "code",
   "execution_count": 37,
   "id": "e3d6477b",
   "metadata": {},
   "outputs": [],
   "source": [
    "from sklearn.preprocessing import LabelEncoder\n",
    "le = LabelEncoder()\n",
    "y_train = le.fit_transform(ytrain)\n",
    "y_test = le.transform(ytest)"
   ]
  },
  {
   "cell_type": "code",
   "execution_count": 17,
   "id": "0bd881dd",
   "metadata": {
    "scrolled": false
   },
   "outputs": [
    {
     "name": "stdout",
     "output_type": "stream",
     "text": [
      "Random Forest\n",
      "Model performance for Training set\n",
      "- Accuracy: 1.0000\n",
      "- F1 score: 1.0000\n",
      "- Precision: 1.0000\n",
      "- Recall: 1.0000\n",
      "----------------------------------\n",
      "Model performance for Test set\n",
      "- Accuracy: 0.8674\n",
      "- F1 score: 0.8674\n",
      "- Precision: 0.8674\n",
      "- Recall: 0.8674\n",
      "===================================\n",
      "\n",
      "\n",
      "Decision Tree\n",
      "Model performance for Training set\n",
      "- Accuracy: 1.0000\n",
      "- F1 score: 1.0000\n",
      "- Precision: 1.0000\n",
      "- Recall: 1.0000\n",
      "----------------------------------\n",
      "Model performance for Test set\n",
      "- Accuracy: 0.7917\n",
      "- F1 score: 0.7917\n",
      "- Precision: 0.7917\n",
      "- Recall: 0.7917\n",
      "===================================\n",
      "\n",
      "\n",
      "Gradient Boosting\n",
      "Model performance for Training set\n",
      "- Accuracy: 0.8417\n",
      "- F1 score: 0.8417\n",
      "- Precision: 0.8417\n",
      "- Recall: 0.8417\n",
      "----------------------------------\n",
      "Model performance for Test set\n",
      "- Accuracy: 0.8022\n",
      "- F1 score: 0.8022\n",
      "- Precision: 0.8022\n",
      "- Recall: 0.8022\n",
      "===================================\n",
      "\n",
      "\n",
      "Logistic Regression\n",
      "Model performance for Training set\n",
      "- Accuracy: 0.7124\n",
      "- F1 score: 0.7124\n",
      "- Precision: 0.7124\n",
      "- Recall: 0.7124\n",
      "----------------------------------\n",
      "Model performance for Test set\n",
      "- Accuracy: 0.7093\n",
      "- F1 score: 0.7093\n",
      "- Precision: 0.7093\n",
      "- Recall: 0.7093\n",
      "===================================\n",
      "\n",
      "\n",
      "K-Neighbors Classifier\n",
      "Model performance for Training set\n",
      "- Accuracy: 0.8555\n",
      "- F1 score: 0.8555\n",
      "- Precision: 0.8555\n",
      "- Recall: 0.8555\n",
      "----------------------------------\n",
      "Model performance for Test set\n",
      "- Accuracy: 0.7844\n",
      "- F1 score: 0.7844\n",
      "- Precision: 0.7844\n",
      "- Recall: 0.7844\n",
      "===================================\n",
      "\n",
      "\n",
      "CatBoost Classifier\n",
      "Model performance for Training set\n",
      "- Accuracy: 0.9456\n",
      "- F1 score: 0.9456\n",
      "- Precision: 0.9456\n",
      "- Recall: 0.9456\n",
      "----------------------------------\n",
      "Model performance for Test set\n",
      "- Accuracy: 0.8684\n",
      "- F1 score: 0.8684\n",
      "- Precision: 0.8684\n",
      "- Recall: 0.8684\n",
      "===================================\n",
      "\n",
      "\n",
      "AdaBoost Classifier\n",
      "Model performance for Training set\n",
      "- Accuracy: 0.3587\n",
      "- F1 score: 0.3587\n",
      "- Precision: 0.3587\n",
      "- Recall: 0.3587\n",
      "----------------------------------\n",
      "Model performance for Test set\n",
      "- Accuracy: 0.3466\n",
      "- F1 score: 0.3466\n",
      "- Precision: 0.3466\n",
      "- Recall: 0.3466\n",
      "===================================\n",
      "\n",
      "\n",
      "GaussianNB Classifier\n",
      "Model performance for Training set\n",
      "- Accuracy: 0.4711\n",
      "- F1 score: 0.4711\n",
      "- Precision: 0.4711\n",
      "- Recall: 0.4711\n",
      "----------------------------------\n",
      "Model performance for Test set\n",
      "- Accuracy: 0.4692\n",
      "- F1 score: 0.4692\n",
      "- Precision: 0.4692\n",
      "- Recall: 0.4692\n",
      "===================================\n",
      "\n",
      "\n"
     ]
    }
   ],
   "source": [
    "evaluate_models(x_train_scaled, ytrain,x_test_scaled, ytest, models)"
   ]
  },
  {
   "cell_type": "markdown",
   "id": "1e4f1788",
   "metadata": {},
   "source": [
    "### Random Forest Hyperparameter tuning"
   ]
  },
  {
   "cell_type": "markdown",
   "id": "1a1dc7c0",
   "metadata": {},
   "source": [
    "**Random Forest best parameters values:\n",
    "  max_depth': None, \n",
    " 'max_features': 0.6,\n",
    " 'max_samples': 1.0,\n",
    " 'n_estimators': 120**"
   ]
  },
  {
   "cell_type": "code",
   "execution_count": 39,
   "id": "23f504bd",
   "metadata": {},
   "outputs": [],
   "source": [
    "rf_model = {\"RandomForest\" : RandomForestClassifier(n_estimators = 120, max_depth = None, max_features = 0.6, max_samples = 1.0)}"
   ]
  },
  {
   "cell_type": "code",
   "execution_count": 40,
   "id": "23d85f96",
   "metadata": {
    "scrolled": true
   },
   "outputs": [
    {
     "name": "stdout",
     "output_type": "stream",
     "text": [
      "RandomForest\n",
      "Model performance for Training set\n",
      "- Accuracy: 1.0000\n",
      "- F1 score: 1.0000\n",
      "- Precision: 1.0000\n",
      "- Recall: 1.0000\n",
      "----------------------------------\n",
      "Model performance for Test set\n",
      "- Accuracy: 0.8694\n",
      "- F1 score: 0.8694\n",
      "- Precision: 0.8694\n",
      "- Recall: 0.8694\n",
      "===================================\n",
      "\n",
      "\n"
     ]
    }
   ],
   "source": [
    "evaluate_models(x_train_scaled, y_train,x_test_scaled, y_test, rf_model)"
   ]
  },
  {
   "cell_type": "markdown",
   "id": "152ac5b1",
   "metadata": {},
   "source": [
    "### Hyperparameter Tuning of XGBoost"
   ]
  },
  {
   "cell_type": "markdown",
   "id": "85d31f46",
   "metadata": {},
   "source": [
    "**Best parameters for xgboost:\n",
    "{'min_child_weight': 7,\n",
    " 'max_depth': 15,\n",
    " 'learning_rate': 0.3,\n",
    " 'gamma': 0.0,\n",
    " 'colsample_bytree': 0.5}**"
   ]
  },
  {
   "cell_type": "code",
   "execution_count": 41,
   "id": "d6e91899",
   "metadata": {
    "scrolled": true
   },
   "outputs": [
    {
     "name": "stdout",
     "output_type": "stream",
     "text": [
      "xgboost\n",
      "Model performance for Training set\n",
      "- Accuracy: 1.0000\n",
      "- F1 score: 1.0000\n",
      "- Precision: 1.0000\n",
      "- Recall: 1.0000\n",
      "----------------------------------\n",
      "Model performance for Test set\n",
      "- Accuracy: 0.8750\n",
      "- F1 score: 0.8750\n",
      "- Precision: 0.8750\n",
      "- Recall: 0.8750\n",
      "===================================\n",
      "\n",
      "\n"
     ]
    }
   ],
   "source": [
    "rf_xgboost = {\"xgboost\" : XGBClassifier(min_child_weight = 7, max_depth = 15, learning_rate = 0.3, gamma= 0.0, colsample_bytree= 0.5)}\n",
    "evaluate_models(x_train_scaled, y_train,x_test_scaled, y_test, rf_xgboost)"
   ]
  },
  {
   "cell_type": "markdown",
   "id": "7fa9ed72",
   "metadata": {},
   "source": [
    "### CatBoost hyperparameter tuning:\n",
    "**Best Parameters: {'depth': 10, 'iterations': 110, 'learning_rate': 0.05}**"
   ]
  },
  {
   "cell_type": "code",
   "execution_count": 34,
   "id": "ff1cdb0c",
   "metadata": {},
   "outputs": [
    {
     "name": "stdout",
     "output_type": "stream",
     "text": [
      "catboost\n",
      "Model performance for Training set\n",
      "- Accuracy: 0.8271\n",
      "- F1 score: 0.8271\n",
      "- Precision: 0.8271\n",
      "- Recall: 0.8271\n",
      "----------------------------------\n",
      "Model performance for Test set\n",
      "- Accuracy: 0.7953\n",
      "- F1 score: 0.7953\n",
      "- Precision: 0.7953\n",
      "- Recall: 0.7953\n",
      "===================================\n",
      "\n",
      "\n"
     ]
    }
   ],
   "source": [
    "rf_catboost = {\"catboost\":CatBoostClassifier(verbose = False,depth = 10, iterations = 110, learning_rate =  0.05)}\n",
    "evaluate_models(x_train_scaled, ytrain,x_test_scaled, ytest, rf_catboost)"
   ]
  },
  {
   "cell_type": "markdown",
   "id": "1a76b8e9",
   "metadata": {},
   "source": [
    "### KNN Hyperparameter tuning:\n",
    "**Best Parameter values: {'metric': 'manhattan', 'n_neighbors': 1, 'weights': 'uniform'}**"
   ]
  },
  {
   "cell_type": "code",
   "execution_count": 43,
   "id": "22b2a1f6",
   "metadata": {
    "scrolled": true
   },
   "outputs": [
    {
     "name": "stdout",
     "output_type": "stream",
     "text": [
      "KNN\n",
      "Model performance for Training set\n",
      "- Accuracy: 1.0000\n",
      "- F1 score: 1.0000\n",
      "- Precision: 1.0000\n",
      "- Recall: 1.0000\n",
      "----------------------------------\n",
      "Model performance for Test set\n",
      "- Accuracy: 0.8102\n",
      "- F1 score: 0.8102\n",
      "- Precision: 0.8102\n",
      "- Recall: 0.8102\n",
      "===================================\n",
      "\n",
      "\n"
     ]
    }
   ],
   "source": [
    "knn_model = {\"KNN\" : KNeighborsClassifier(metric= 'manhattan', n_neighbors= 1, weights= 'uniform')}\n",
    "evaluate_models(x_train_scaled, y_train,x_test_scaled, y_test, knn_model)"
   ]
  },
  {
   "cell_type": "markdown",
   "id": "a339b22d",
   "metadata": {},
   "source": [
    "### Gradient Boosting Hyperparameter Tuning:\n",
    "**Best Parameter Values: {'learning_rate': 0.1, 'max_depth': 9, 'n_estimators': 500, 'subsample': 0.7}**"
   ]
  },
  {
   "cell_type": "code",
   "execution_count": 14,
   "id": "a4a5c8a6",
   "metadata": {},
   "outputs": [],
   "source": [
    "gdboost_model = {\"gradient boosting\" : GradientBoostingClassifier(learning_rate =  0.1, max_depth = 9, n_estimators = 500, subsample = 0.7)}"
   ]
  },
  {
   "cell_type": "code",
   "execution_count": 15,
   "id": "6269be10",
   "metadata": {},
   "outputs": [
    {
     "name": "stdout",
     "output_type": "stream",
     "text": [
      "gradient boosting\n",
      "Model performance for Training set\n",
      "- Accuracy: 1.0000\n",
      "- F1 score: 1.0000\n",
      "- Precision: 1.0000\n",
      "- Recall: 1.0000\n",
      "----------------------------------\n",
      "Model performance for Test set\n",
      "- Accuracy: 0.8853\n",
      "- F1 score: 0.8853\n",
      "- Precision: 0.8853\n",
      "- Recall: 0.8853\n",
      "===================================\n",
      "\n",
      "\n"
     ]
    }
   ],
   "source": [
    "evaluate_models(x_train_scaled, ytrain,x_test_scaled, ytest, gdboost_model)"
   ]
  },
  {
   "cell_type": "markdown",
   "id": "4f35f0b6",
   "metadata": {},
   "source": [
    "## Conclusion:"
   ]
  },
  {
   "cell_type": "markdown",
   "id": "3e8da4e4",
   "metadata": {},
   "source": [
    "#### After considering results with hyperparameter tuning and without hyperparameter tuning,it has been found that Catboost classifier model without hyperparameter tuning is the model with good accuracy scores and least overfitting,so that is our final model."
   ]
  },
  {
   "cell_type": "code",
   "execution_count": null,
   "id": "40606a6d",
   "metadata": {},
   "outputs": [],
   "source": []
  },
  {
   "cell_type": "code",
   "execution_count": null,
   "id": "a83b3a05",
   "metadata": {},
   "outputs": [],
   "source": []
  },
  {
   "cell_type": "code",
   "execution_count": null,
   "id": "391006d7",
   "metadata": {},
   "outputs": [],
   "source": []
  },
  {
   "cell_type": "code",
   "execution_count": null,
   "id": "a77e64b1",
   "metadata": {},
   "outputs": [],
   "source": []
  }
 ],
 "metadata": {
  "kernelspec": {
   "display_name": "Python 3 (ipykernel)",
   "language": "python",
   "name": "python3"
  },
  "language_info": {
   "codemirror_mode": {
    "name": "ipython",
    "version": 3
   },
   "file_extension": ".py",
   "mimetype": "text/x-python",
   "name": "python",
   "nbconvert_exporter": "python",
   "pygments_lexer": "ipython3",
   "version": "3.9.12"
  }
 },
 "nbformat": 4,
 "nbformat_minor": 5
}
